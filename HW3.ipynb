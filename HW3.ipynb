{
 "cells": [
  {
   "cell_type": "markdown",
   "metadata": {},
   "source": [
    "# Завдання 1"
   ]
  },
  {
   "cell_type": "code",
   "execution_count": 40,
   "metadata": {},
   "outputs": [],
   "source": [
    "import datetime\n",
    "\n",
    "def get_days_from_today(date):\n",
    "    \"\"\"\n",
    "    Розраховує кількість днів між заданою датою і поточною датою.\n",
    "\n",
    "    Параметри:\n",
    "    date (str): Дата у форматі 'РРРР-ММ-ДД' (наприклад, '2020-10-09').\n",
    "\n",
    "    Повертає:\n",
    "    int: Кількість днів від заданої дати до поточної. Від’ємне число, якщо задана дата пізніша за поточну.\n",
    "\n",
    "    Винятки:\n",
    "    ValueError: Якщо вхідний рядок має неправильний формат.\n",
    "    \"\"\"\n",
    "    # Перетворюємо рядок у об'єкт datetime.date\n",
    "    try:\n",
    "        given_date = datetime.datetime.strptime(date, '%Y-%m-%d').date()\n",
    "    except ValueError:\n",
    "        raise ValueError(\"Неправильний формат дати. Використовуйте 'РРРР-ММ-ДД'.\")\n",
    "\n",
    "    # Отримуємо поточну дату без часу\n",
    "    current_date = datetime.datetime.today().date()\n",
    "\n",
    "    # Розраховуємо різницю між датами\n",
    "    diff = current_date - given_date\n",
    "\n",
    "    # Повертаємо кількість днів як ціле число\n",
    "    return diff.days"
   ]
  },
  {
   "cell_type": "code",
   "execution_count": 41,
   "metadata": {},
   "outputs": [
    {
     "name": "stdout",
     "output_type": "stream",
     "text": [
      "-73437\n"
     ]
    }
   ],
   "source": [
    "print(get_days_from_today(input(\"Введіть дату у форматі 'РРРР-ММ-ДД': \")))"
   ]
  },
  {
   "cell_type": "markdown",
   "metadata": {},
   "source": [
    "# Завдання 2"
   ]
  },
  {
   "cell_type": "code",
   "execution_count": 42,
   "metadata": {},
   "outputs": [],
   "source": [
    "import random\n",
    "\n",
    "def get_numbers_ticket(min, max, quantity):\n",
    "    \"\"\"\n",
    "    Генерує набір унікальних випадкових чисел для лотереї.\n",
    "\n",
    "    Параметри:\n",
    "    min (int): Мінімальне можливе число у наборі (не менше 1).\n",
    "    max (int): Максимальне можливе число у наборі (не більше 1000).\n",
    "    quantity (int): Кількість чисел, які потрібно вибрати (значення між min і max).\n",
    "\n",
    "    Повертає:\n",
    "    list: Відсортований список випадкових унікальних чисел, якщо параметри коректні.\n",
    "          Порожній список, якщо параметри не відповідають вимогам.\n",
    "    \"\"\"\n",
    "    # Перевірка коректності вхідних параметрів\n",
    "    if not (1 <= min <= 1000) or not (1 <= max <= 1000) or not (min <= quantity <= max):\n",
    "        return []\n",
    "\n",
    "    # Генерація унікальних випадкових чисел\n",
    "    try:\n",
    "        numbers = random.sample(range(min, max + 1), quantity)\n",
    "    except ValueError:\n",
    "        # Якщо quantity більша за доступний діапазон\n",
    "        return []\n",
    "\n",
    "    # Сортування та повернення списку\n",
    "    return sorted(numbers)"
   ]
  },
  {
   "cell_type": "code",
   "execution_count": 43,
   "metadata": {},
   "outputs": [
    {
     "name": "stdout",
     "output_type": "stream",
     "text": [
      "[5, 7, 10, 11, 12, 13, 17, 18, 22, 24, 25, 29, 30, 31, 33, 34, 35, 36, 37, 38, 39, 42, 43, 44, 49]\n"
     ]
    }
   ],
   "source": [
    "print(get_numbers_ticket(int(input(\"Мінімальне число (>0): \")), int(input(\"Максимальне число (<=1000): \")), int(input(\"Кількість чисел: \"))))"
   ]
  },
  {
   "cell_type": "markdown",
   "metadata": {},
   "source": [
    "# Завдання 3"
   ]
  },
  {
   "cell_type": "code",
   "execution_count": 45,
   "metadata": {},
   "outputs": [],
   "source": [
    "import re\n",
    "\n",
    "def normalize_phone(phone_number):\n",
    "    \"\"\"\n",
    "    Нормалізує телефонний номер до стандартного формату, залишаючи тільки цифри та символ '+' на початку.\n",
    "\n",
    "    Параметри:\n",
    "    phone_number (str): Телефонний номер у будь-якому форматі.\n",
    "\n",
    "    Повертає:\n",
    "    str: Нормалізований телефонний номер у вигляді рядка з міжнародним кодом '+38', якщо його не було.\n",
    "         Якщо номер закороткий (менше 12 символів) - повертає None.\n",
    "         Якщо номер задовгий (більше 13 символів) - обрізає до 13 символів.\n",
    "    \"\"\"\n",
    "    # Видаляємо всі символи, крім цифр та '+'\n",
    "    cleaned_number = re.sub(r'[^0-9+]', '', phone_number)\n",
    "\n",
    "    # Перевіряємо, чи номер починається з '+'\n",
    "    if cleaned_number.startswith('+'):\n",
    "        # Якщо починається з '+', але не з '+380', додаємо '+38'\n",
    "        if not cleaned_number.startswith('+380'):\n",
    "            cleaned_number = '+38' + cleaned_number.lstrip('+')\n",
    "    else:\n",
    "        # Якщо не починається з '+', перевіряємо, чи є '380' на початку\n",
    "        if cleaned_number.startswith('380'):\n",
    "            cleaned_number = '+' + cleaned_number\n",
    "        else:\n",
    "            # Якщо немає коду, додаємо '+38'\n",
    "            cleaned_number = '+38' + cleaned_number\n",
    "\n",
    "    # Видаляємо зайві '+', якщо вони є\n",
    "    if cleaned_number.count('+') > 1:\n",
    "        parts = cleaned_number.split('+', 1)\n",
    "        cleaned_number = parts[0] + '+' + parts[1].replace('+', '')\n",
    "\n",
    "    # Перевірка довжини номера\n",
    "    if len(cleaned_number) < 13:  # +380xxxxxxxx (13 символів)\n",
    "        return None\n",
    "    elif len(cleaned_number) > 13:\n",
    "        cleaned_number = cleaned_number[:13]\n",
    "\n",
    "    return cleaned_number"
   ]
  },
  {
   "cell_type": "code",
   "execution_count": 54,
   "metadata": {},
   "outputs": [
    {
     "name": "stdout",
     "output_type": "stream",
     "text": [
      "Нормалізовані номери телефонів:\n",
      " ['+380671234567', '+380952345678', '+380441234567', '+380501234567', '+380501233234', '+380503451234', '+380508889900', '+380501112222', '+380501112211']\n"
     ]
    }
   ],
   "source": [
    "input_number = [\n",
    "    \"067\\\\t123 4567\",\n",
    "    \"(095) 234-5678\\\\n\",\n",
    "    \"+380 44 123 4567\",\n",
    "    \"380501234567\",\n",
    "    \"    +38(050)123-32-34\",\n",
    "    \"     0503451234\",\n",
    "    \"(050)8889900\",\n",
    "    \"38050-111-22-22\",\n",
    "    \"38050 111 22 11   \",\n",
    "]\n",
    "\n",
    "# Нормалізуємо кожен номер, видаляємо пробіли\n",
    "normalized_numbers = [normalize_phone(number) for number in input_number]\n",
    "print('Нормалізовані номери телефонів:\\n', normalized_numbers)"
   ]
  },
  {
   "cell_type": "markdown",
   "metadata": {},
   "source": [
    "# Завдання 4"
   ]
  },
  {
   "cell_type": "code",
   "execution_count": 55,
   "metadata": {},
   "outputs": [],
   "source": [
    "import datetime\n",
    "\n",
    "def get_upcoming_birthdays(users):\n",
    "    \"\"\"\n",
    "    Визначає, кого з користувачів потрібно привітати з днем народження протягом наступних 7 днів,\n",
    "    включаючи поточний день, і переносить дату привітання на наступний понеділок, якщо день народження\n",
    "    припадає на вихідний.\n",
    "\n",
    "    Параметри:\n",
    "    users (list): Список словників, де кожен словник містить 'name' (ім'я користувача) та \n",
    "                  'birthday' (дата народження у форматі 'рік.місяць.дата').\n",
    "\n",
    "    Повертає:\n",
    "    list: Список словників із 'name' та 'congratulation_date' (дата привітання у форматі 'рік.місяць.дата').\n",
    "    \"\"\"\n",
    "    today = datetime.date.today()  # Поточна дата\n",
    "    upcoming = []  # Список для зберігання користувачів, яких потрібно привітати\n",
    "\n",
    "    for user in users:\n",
    "        # Перетворюємо дату народження з рядка у об'єкт datetime.date\n",
    "        birthday = datetime.datetime.strptime(user[\"birthday\"], \"%Y.%m.%d\").date()\n",
    "\n",
    "        # Визначаємо дату народження в поточному році\n",
    "        birthday_this_year = birthday.replace(year=today.year)\n",
    "\n",
    "        # Якщо день народження в цьому році вже минув, розглядаємо наступний рік\n",
    "        if birthday_this_year < today:\n",
    "            birthday_this_year = birthday_this_year.replace(year=today.year + 1)\n",
    "\n",
    "        # Обчислюємо різницю в днях між днем народження та поточною датою\n",
    "        days_ahead = (birthday_this_year - today).days\n",
    "\n",
    "        # Перевіряємо, чи день народження відбувається протягом наступних 7 днів (0-6 днів вперед)\n",
    "        if 0 <= days_ahead <= 6:\n",
    "            # Визначаємо день тижня дня народження (0 - понеділок, 6 - неділя)\n",
    "            birthday_weekday = birthday_this_year.weekday()\n",
    "\n",
    "            # Переносимо дату привітання на понеділок, якщо день народження припадає на вихідний\n",
    "            if birthday_weekday == 5:  # Субота\n",
    "                congratulation_date = birthday_this_year + datetime.timedelta(days=2)\n",
    "            elif birthday_weekday == 6:  # Неділя\n",
    "                congratulation_date = birthday_this_year + datetime.timedelta(days=1)\n",
    "            else:\n",
    "                congratulation_date = birthday_this_year\n",
    "\n",
    "            # Додаємо користувача та дату привітання до списку\n",
    "            upcoming.append({\n",
    "                \"name\": user[\"name\"],\n",
    "                \"congratulation_date\": congratulation_date.strftime(\"%Y.%m.%d\")\n",
    "            })\n",
    "\n",
    "    return upcoming"
   ]
  },
  {
   "cell_type": "code",
   "execution_count": 56,
   "metadata": {},
   "outputs": [
    {
     "name": "stdout",
     "output_type": "stream",
     "text": [
      "Список привітань на цьому тижні:\n",
      " [{'name': 'John Doe', 'congratulation_date': '2025.03.10'}, {'name': 'Jane Smith', 'congratulation_date': '2025.03.12'}]\n"
     ]
    }
   ],
   "source": [
    "users = [\n",
    "    {\"name\": \"John Doe\", \"birthday\": \"1985.03.10\"},\n",
    "    {\"name\": \"Jane Smith\", \"birthday\": \"1990.03.12\"}\n",
    "]\n",
    "\n",
    "upcoming_birthdays = get_upcoming_birthdays(users)\n",
    "print(\"Список привітань на цьому тижні:\\n\", upcoming_birthdays)"
   ]
  }
 ],
 "metadata": {
  "kernelspec": {
   "display_name": "Python 3",
   "language": "python",
   "name": "python3"
  },
  "language_info": {
   "codemirror_mode": {
    "name": "ipython",
    "version": 3
   },
   "file_extension": ".py",
   "mimetype": "text/x-python",
   "name": "python",
   "nbconvert_exporter": "python",
   "pygments_lexer": "ipython3",
   "version": "3.13.1"
  }
 },
 "nbformat": 4,
 "nbformat_minor": 2
}
